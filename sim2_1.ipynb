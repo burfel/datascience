{
 "cells": [
  {
   "cell_type": "code",
   "execution_count": 1,
   "metadata": {},
   "outputs": [
    {
     "name": "stderr",
     "output_type": "stream",
     "text": [
      "/home/frederik/anaconda3/lib/python3.6/site-packages/matplotlib/font_manager.py:280: UserWarning: Matplotlib is building the font cache using fc-list. This may take a moment.\n",
      "  'Matplotlib is building the font cache using fc-list. '\n"
     ]
    }
   ],
   "source": [
    "import matplotlib.pyplot as plt\n",
    "from graphics import *\n",
    "from operator import *\n",
    "from random import *\n",
    "import numpy as np"
   ]
  },
  {
   "cell_type": "code",
   "execution_count": 2,
   "metadata": {},
   "outputs": [],
   "source": [
    "def initialize(speed = 1, N = 100, width = 1000, height = 1000):\n",
    "\n",
    "    agents = [Point(width*random(), height*random()) for i in range(N)]\n",
    "    speeds = N * [0]\n",
    "    for i in range(N):\n",
    "        theta = 2 * np.pi * random()\n",
    "        speeds[i] = [speed * np.cos(2*np.pi*random()), speed * np.sin(2*np.pi*random())]\n",
    "    else:\n",
    "        speeds = N * [[0, 0]]\n",
    "\n",
    "    return agents, speeds, plot(agents, width, height)\n",
    "\n",
    "\n",
    "def couple_speeds(agents, speeds, a, N):\n",
    "    nearest_neighbours = [nearest_neighbour(agent, agents, N) for agent in agents]\n",
    "    for i in range(N):\n",
    "            weightedSpeed = map(lambda x: a * x, speeds[nearest_neighbours[i]])\n",
    "            #print(agents[i],'<-',weightedAgent)\n",
    "            speeds[i] = map(add, speeds[i], weightedSpeed)\n",
    "            speeds[i] = normalized(speeds[i])\n",
    "    return\n",
    "\n",
    "def get_distances(agent, agents):\n",
    "    dists = [(a.getX() - agent.getX())**2 + (a.getY() - agent.getY())**2 for a in agents]\n",
    "    return dists\n",
    "\n",
    "def nearest_neighbour(agent, agents, N):\n",
    "    \"\"\"\n",
    "    Returns the index for the agent with smallest Eucledian distance to agent in question\n",
    "    \"\"\"\n",
    "    distances = get_distances(agent, agents)\n",
    "    j = next(i for i in range(N) if agents[i] is agent)\n",
    "    distances[j] = distances[j-1] + 1\n",
    "\n",
    "    return distances.index(min(distances))\n",
    "    \n",
    "    \n",
    "def treat_boundary(x_bound, y_bound, agents, speeds, N):\n",
    "    for i in range(N):\n",
    "        [x, y] = [agents[i].getX(), agents[i].getY()]\n",
    "        if x > x_bound or x < 0:\n",
    "            speeds[i][0] = -speeds[i][0]\n",
    "        if y > y_bound or y < 0:\n",
    "            speeds[i][1] = -speeds[i][1]\n",
    "\n",
    "\n",
    "def next_step(agents, speeds, dt, N):\n",
    "    dxvec = [dt * speeds[i][0] for i in range(N)]\n",
    "    dyvec = [dt * speeds[i][1] for i in range(N)]\n",
    "    \n",
    "    for i in range(N):\n",
    "        agents[i].move(dxvec[i], dyvec[i])\n",
    "        \n",
    "\n",
    "def plot(agents, width, height):\n",
    "    win = GraphWin(\"Swarm\", width, height) # size of box\n",
    "    for agent in agents:\n",
    "        agent.draw(win)\n",
    "    win.getMouse()\n",
    "    return win\n",
    "    #win.close()\n",
    "\n",
    "def normalized(vector):\n",
    "    return map(lambda x: x/np.sqrt(vector[0]**2 + vector[1]**2), vector)\n",
    "    "
   ]
  },
  {
   "cell_type": "code",
   "execution_count": 3,
   "metadata": {},
   "outputs": [],
   "source": [
    "def couzin(agents, speeds, N, rr=1, ro=2, ra=3):\n",
    "    # watch only particles inrepuls\n",
    "    distances = [get_distances(agent, agents) for agent in agents]\n",
    "    for i in range(N): ### FIX - Eliminate, in some way the i-i interaction\n",
    "        r_dir = [0, 0]\n",
    "        o_dir = [0, 0]\n",
    "        a_dir = [0, 0]\n",
    "        repulsion_flag = False    \n",
    "        \n",
    "        for j in range(N):\n",
    "            if i == j:\n",
    "                continue\n",
    "\n",
    "            if distances[i][j] < rr:\n",
    "                temp_vec = [agents[j].getX() - agents[i].getX(), agents[j].getY()-agents[i].getY()]\n",
    "                temp_vec = normalized(temp_vec)\n",
    "                r_dir = map(add, r_dir, temp_vec)\n",
    "                repulsion_flag = True\n",
    "            \n",
    "            elif not repulsion_flag:\n",
    "\n",
    "                if distances[i][j] < ro:\n",
    "                    o_dir = map(add, o_dir, speed[j])\n",
    "                elif distances[i][j] < ra:\n",
    "                    temp_vec = [agents[i].getX()-agents[j].getX(), agents[i].getY()-agents[j].getY()]\n",
    "                    temp_vec = normalized(temp_vec)\n",
    "                    a_dir = map(add, a_dir, temp_vec)\n",
    "            \n",
    "                    \n",
    "        if repulsion_flag:\n",
    "            tot_dir = - normalized(r_dir)\n",
    "        \n",
    "        else:\n",
    "            o_dir = normalized(o_dir)\n",
    "            a_dir = normalized(a_dir)\n",
    "            tot_dir = map(add, o_dir, a_dir)\n",
    "            tot_dir = normalized(tot_dir)\n",
    "        \n",
    "        speeds[i] = map(lambda x: x*np.sqrt(speeds[i][0]**2+speeds[i][1]**2), tot_dir) # re-normalization \n",
    "        \n",
    "\n",
    "\n",
    "def vicsek():\n",
    "    return\n",
    "\n",
    "def gueron():\n",
    "    return"
   ]
  },
  {
   "cell_type": "code",
   "execution_count": 4,
   "metadata": {
    "scrolled": true
   },
   "outputs": [
    {
     "name": "stdout",
     "output_type": "stream",
     "text": [
      "pixota1 0\n",
      "pixota2 0\n",
      "pixota3 0\n",
      "pixota4 0\n",
      "pixota1 1\n"
     ]
    },
    {
     "ename": "TypeError",
     "evalue": "'map' object is not subscriptable",
     "output_type": "error",
     "traceback": [
      "\u001b[0;31m------------------------------------------------------------------------\u001b[0m",
      "\u001b[0;31mTypeError\u001b[0m                              Traceback (most recent call last)",
      "\u001b[0;32m<ipython-input-4-1e587a4a5dff>\u001b[0m in \u001b[0;36m<module>\u001b[0;34m()\u001b[0m\n\u001b[1;32m     24\u001b[0m     \u001b[0mwindow\u001b[0m\u001b[0;34m.\u001b[0m\u001b[0mclose\u001b[0m\u001b[0;34m(\u001b[0m\u001b[0;34m)\u001b[0m\u001b[0;34m\u001b[0m\u001b[0m\n\u001b[1;32m     25\u001b[0m \u001b[0;34m\u001b[0m\u001b[0m\n\u001b[0;32m---> 26\u001b[0;31m \u001b[0msimulate\u001b[0m\u001b[0;34m(\u001b[0m\u001b[0mN_steps\u001b[0m \u001b[0;34m=\u001b[0m \u001b[0;36m100\u001b[0m\u001b[0;34m)\u001b[0m\u001b[0;34m\u001b[0m\u001b[0m\n\u001b[0m",
      "\u001b[0;32m<ipython-input-4-1e587a4a5dff>\u001b[0m in \u001b[0;36msimulate\u001b[0;34m(N_steps, a, dt, N, width, height, s)\u001b[0m\n\u001b[1;32m     15\u001b[0m     \u001b[0;32mfor\u001b[0m \u001b[0mi\u001b[0m \u001b[0;32min\u001b[0m \u001b[0mrange\u001b[0m\u001b[0;34m(\u001b[0m\u001b[0mN_steps\u001b[0m\u001b[0;34m)\u001b[0m\u001b[0;34m:\u001b[0m\u001b[0;34m\u001b[0m\u001b[0m\n\u001b[1;32m     16\u001b[0m         \u001b[0mprint\u001b[0m\u001b[0;34m(\u001b[0m\u001b[0;34m'pixota1 '\u001b[0m \u001b[0;34m+\u001b[0m \u001b[0mstr\u001b[0m\u001b[0;34m(\u001b[0m\u001b[0mi\u001b[0m\u001b[0;34m)\u001b[0m\u001b[0;34m)\u001b[0m\u001b[0;34m\u001b[0m\u001b[0m\n\u001b[0;32m---> 17\u001b[0;31m         \u001b[0mnext_step\u001b[0m\u001b[0;34m(\u001b[0m\u001b[0magents\u001b[0m\u001b[0;34m,\u001b[0m \u001b[0mspeeds\u001b[0m\u001b[0;34m,\u001b[0m \u001b[0mdt\u001b[0m\u001b[0;34m,\u001b[0m \u001b[0mN\u001b[0m\u001b[0;34m)\u001b[0m\u001b[0;34m\u001b[0m\u001b[0m\n\u001b[0m\u001b[1;32m     18\u001b[0m         \u001b[0mprint\u001b[0m\u001b[0;34m(\u001b[0m\u001b[0;34m'pixota2 '\u001b[0m \u001b[0;34m+\u001b[0m \u001b[0mstr\u001b[0m\u001b[0;34m(\u001b[0m\u001b[0mi\u001b[0m\u001b[0;34m)\u001b[0m\u001b[0;34m)\u001b[0m\u001b[0;34m\u001b[0m\u001b[0m\n\u001b[1;32m     19\u001b[0m         \u001b[0;31m#couzin(agents, speeds, N, 10,20,30)\u001b[0m\u001b[0;34m\u001b[0m\u001b[0;34m\u001b[0m\u001b[0m\n",
      "\u001b[0;32m<ipython-input-2-379d37e6680e>\u001b[0m in \u001b[0;36mnext_step\u001b[0;34m(agents, speeds, dt, N)\u001b[0m\n\u001b[1;32m     46\u001b[0m \u001b[0;34m\u001b[0m\u001b[0m\n\u001b[1;32m     47\u001b[0m \u001b[0;32mdef\u001b[0m \u001b[0mnext_step\u001b[0m\u001b[0;34m(\u001b[0m\u001b[0magents\u001b[0m\u001b[0;34m,\u001b[0m \u001b[0mspeeds\u001b[0m\u001b[0;34m,\u001b[0m \u001b[0mdt\u001b[0m\u001b[0;34m,\u001b[0m \u001b[0mN\u001b[0m\u001b[0;34m)\u001b[0m\u001b[0;34m:\u001b[0m\u001b[0;34m\u001b[0m\u001b[0m\n\u001b[0;32m---> 48\u001b[0;31m     \u001b[0mdxvec\u001b[0m \u001b[0;34m=\u001b[0m \u001b[0;34m[\u001b[0m\u001b[0mdt\u001b[0m \u001b[0;34m*\u001b[0m \u001b[0mspeeds\u001b[0m\u001b[0;34m[\u001b[0m\u001b[0mi\u001b[0m\u001b[0;34m]\u001b[0m\u001b[0;34m[\u001b[0m\u001b[0;36m0\u001b[0m\u001b[0;34m]\u001b[0m \u001b[0;32mfor\u001b[0m \u001b[0mi\u001b[0m \u001b[0;32min\u001b[0m \u001b[0mrange\u001b[0m\u001b[0;34m(\u001b[0m\u001b[0mN\u001b[0m\u001b[0;34m)\u001b[0m\u001b[0;34m]\u001b[0m\u001b[0;34m\u001b[0m\u001b[0m\n\u001b[0m\u001b[1;32m     49\u001b[0m     \u001b[0mdyvec\u001b[0m \u001b[0;34m=\u001b[0m \u001b[0;34m[\u001b[0m\u001b[0mdt\u001b[0m \u001b[0;34m*\u001b[0m \u001b[0mspeeds\u001b[0m\u001b[0;34m[\u001b[0m\u001b[0mi\u001b[0m\u001b[0;34m]\u001b[0m\u001b[0;34m[\u001b[0m\u001b[0;36m1\u001b[0m\u001b[0;34m]\u001b[0m \u001b[0;32mfor\u001b[0m \u001b[0mi\u001b[0m \u001b[0;32min\u001b[0m \u001b[0mrange\u001b[0m\u001b[0;34m(\u001b[0m\u001b[0mN\u001b[0m\u001b[0;34m)\u001b[0m\u001b[0;34m]\u001b[0m\u001b[0;34m\u001b[0m\u001b[0m\n\u001b[1;32m     50\u001b[0m \u001b[0;34m\u001b[0m\u001b[0m\n",
      "\u001b[0;32m<ipython-input-2-379d37e6680e>\u001b[0m in \u001b[0;36m<listcomp>\u001b[0;34m(.0)\u001b[0m\n\u001b[1;32m     46\u001b[0m \u001b[0;34m\u001b[0m\u001b[0m\n\u001b[1;32m     47\u001b[0m \u001b[0;32mdef\u001b[0m \u001b[0mnext_step\u001b[0m\u001b[0;34m(\u001b[0m\u001b[0magents\u001b[0m\u001b[0;34m,\u001b[0m \u001b[0mspeeds\u001b[0m\u001b[0;34m,\u001b[0m \u001b[0mdt\u001b[0m\u001b[0;34m,\u001b[0m \u001b[0mN\u001b[0m\u001b[0;34m)\u001b[0m\u001b[0;34m:\u001b[0m\u001b[0;34m\u001b[0m\u001b[0m\n\u001b[0;32m---> 48\u001b[0;31m     \u001b[0mdxvec\u001b[0m \u001b[0;34m=\u001b[0m \u001b[0;34m[\u001b[0m\u001b[0mdt\u001b[0m \u001b[0;34m*\u001b[0m \u001b[0mspeeds\u001b[0m\u001b[0;34m[\u001b[0m\u001b[0mi\u001b[0m\u001b[0;34m]\u001b[0m\u001b[0;34m[\u001b[0m\u001b[0;36m0\u001b[0m\u001b[0;34m]\u001b[0m \u001b[0;32mfor\u001b[0m \u001b[0mi\u001b[0m \u001b[0;32min\u001b[0m \u001b[0mrange\u001b[0m\u001b[0;34m(\u001b[0m\u001b[0mN\u001b[0m\u001b[0;34m)\u001b[0m\u001b[0;34m]\u001b[0m\u001b[0;34m\u001b[0m\u001b[0m\n\u001b[0m\u001b[1;32m     49\u001b[0m     \u001b[0mdyvec\u001b[0m \u001b[0;34m=\u001b[0m \u001b[0;34m[\u001b[0m\u001b[0mdt\u001b[0m \u001b[0;34m*\u001b[0m \u001b[0mspeeds\u001b[0m\u001b[0;34m[\u001b[0m\u001b[0mi\u001b[0m\u001b[0;34m]\u001b[0m\u001b[0;34m[\u001b[0m\u001b[0;36m1\u001b[0m\u001b[0;34m]\u001b[0m \u001b[0;32mfor\u001b[0m \u001b[0mi\u001b[0m \u001b[0;32min\u001b[0m \u001b[0mrange\u001b[0m\u001b[0;34m(\u001b[0m\u001b[0mN\u001b[0m\u001b[0;34m)\u001b[0m\u001b[0;34m]\u001b[0m\u001b[0;34m\u001b[0m\u001b[0m\n\u001b[1;32m     50\u001b[0m \u001b[0;34m\u001b[0m\u001b[0m\n",
      "\u001b[0;31mTypeError\u001b[0m: 'map' object is not subscriptable"
     ]
    }
   ],
   "source": [
    "def simulate(N_steps = 10, a = 0.1, dt = 0.01, N = 100, width = 1000, height = 1000, s = 10):\n",
    "    \"\"\"\n",
    "    Simulates motion of swarm. Recieves following parameters:\n",
    "\n",
    "    N_steps  - number of steps to perform\n",
    "    a -  coupling between neighbouring points\n",
    "    dt - time step to be used \n",
    "    N - number of points to be used\n",
    "    width & heigth of window\n",
    "    s - module of speed throughout agents\n",
    "\n",
    "    \"\"\"\n",
    "\n",
    "    agents, speeds, window = initialize(s, N)\n",
    "    for i in range(N_steps):\n",
    "        print('pixota1 ' + str(i))\n",
    "        next_step(agents, speeds, dt, N)\n",
    "        print('pixota2 ' + str(i))\n",
    "        #couzin(agents, speeds, N, 10,20,30)\n",
    "        couple_speeds(agents, speeds, a, N)\n",
    "        print('pixota3 ' + str(i))\n",
    "        treat_boundary(width, height, agents, speeds, N)\n",
    "        print('pixota4 ' + str(i))\n",
    "    window.close()\n",
    "\n",
    "simulate(N_steps = 100)"
   ]
  },
  {
   "cell_type": "code",
   "execution_count": 5,
   "metadata": {},
   "outputs": [
    {
     "data": {
      "text/plain": [
       "0.99999999999999989"
      ]
     },
     "execution_count": 5,
     "metadata": {},
     "output_type": "execute_result"
    }
   ],
   "source": []
  },
  {
   "cell_type": "code",
   "execution_count": null,
   "metadata": {
    "collapsed": true
   },
   "outputs": [],
   "source": []
  }
 ],
 "metadata": {
  "kernelspec": {
   "display_name": "Python 3",
   "language": "python",
   "name": "python3"
  },
  "language_info": {
   "codemirror_mode": {
    "name": "ipython",
    "version": 3
   },
   "file_extension": ".py",
   "mimetype": "text/x-python",
   "name": "python",
   "nbconvert_exporter": "python",
   "pygments_lexer": "ipython3",
   "version": "3.6.1"
  }
 },
 "nbformat": 4,
 "nbformat_minor": 2
}
