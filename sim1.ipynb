{
 "cells": [
  {
   "cell_type": "code",
   "execution_count": 33,
   "metadata": {
    "collapsed": true
   },
   "outputs": [],
   "source": [
    "import matplotlib.pyplot as plt\n",
    "from graphics import *\n",
    "from operator import *\n",
    "from random import *\n",
    "import numpy as np"
   ]
  },
  {
   "cell_type": "code",
   "execution_count": 34,
   "metadata": {
    "collapsed": false
   },
   "outputs": [],
   "source": [
    "def initialize(randspeeds = True, N = 100, width = 1000, height = 1000):\n",
    "\n",
    "    agents = [Point(width*random(), height*random()) for i in range(N)]\n",
    "\n",
    "    if randspeeds:\n",
    "        speeds = [[10*(random() - 0.5), 10*(random() - 0.5)] for i in range(N)]\n",
    "    else:\n",
    "        speeds = N * [[0, 0]]\n",
    "\n",
    "    return agents, speeds, plot(agents, width, height)\n",
    "\n",
    "\n",
    "def couple_speeds(agents, speeds, a, N):\n",
    "    nearest_neighbours = [nearest_neighbour(agent, agents, N) for agent in agents]\n",
    "    for i in range(N):\n",
    "            weightedSpeed = map(lambda x: a * x, speeds[nearest_neighbours[i]])\n",
    "            #print(agents[i],'<-',weightedAgent)\n",
    "            speeds[i] = map(add, speeds[i], weightedSpeed)\n",
    "            speeds[i] = map(lambda x: 10 * x/np.sqrt(speeds[i][0]**2+speeds[i][1]**2), speeds[i]) \n",
    "    return\n",
    "\n",
    "def get_distances():\n",
    "    dists = [(a.getX() - agent.getX())**2 + (a.getY() - agent.getY())**2 for a in agents]\n",
    "    return dists\n",
    "\n",
    "def nearest_neighbour(agent, agents, N):\n",
    "    \"\"\"\n",
    "    Returns the index for the agent with smallest Eucledian distance to agent in question\n",
    "    \"\"\"\n",
    "    distances = get_distances(agent, agent, N):\n",
    "    j = next(i for i in range(N) if agents[i] is agent)\n",
    "    distances[j] = distances[j-1] + 1\n",
    "\n",
    "    return distances.index(min(distances))\n",
    "    \n",
    "    \n",
    "def treat_boundary(x_bound, y_bound, agents, speeds, N):\n",
    "    for i in range(N):\n",
    "        [x, y] = [agents[i].getX(), agents[i].getY()]\n",
    "        if x > x_bound or x < 0:\n",
    "            speeds[i][0] = -speeds[i][0]\n",
    "        if y > y_bound or y < 0:\n",
    "            speeds[i][1] = -speeds[i][1]\n",
    "\n",
    "\n",
    "def next_step(agents, speeds, dt, N):\n",
    "    dxvec = [dt * speeds[i][0] for i in range(N)]\n",
    "    dyvec = [dt * speeds[i][1] for i in range(N)]\n",
    "    \n",
    "    for i in range(N):\n",
    "        agents[i].move(dxvec[i], dyvec[i])\n",
    "        \n",
    "\n",
    "\n",
    "def plot(agents, width, height):\n",
    "    win = GraphWin(\"Swarm\", width, height) # size of box\n",
    "    for agent in agents:\n",
    "        agent.draw(win)\n",
    "    win.getMouse()\n",
    "    return win\n",
    "    #win.close()\n"
   ]
  },
  {
   "cell_type": "code",
   "execution_count": 31,
   "metadata": {
    "collapsed": true
   },
   "outputs": [],
   "source": [
    "def couzin():\n",
    "    # watch only particles inrepuls\n",
    "    \n",
    "    return\n",
    "\n",
    "\n",
    "\n",
    "\n",
    "def vicsek():\n",
    "    return\n",
    "\n",
    "def gueron():\n",
    "    return"
   ]
  },
  {
   "cell_type": "code",
   "execution_count": 32,
   "metadata": {
    "collapsed": false
   },
   "outputs": [],
   "source": [
    "def simulate(N_steps = 10, a = 0.1, dt = 0.01, N = 100, width = 1000, height = 1000, randspeeds = True):\n",
    "    \"\"\"\n",
    "    Simulates motion of swarm. Recieves following parameters:\n",
    "\n",
    "    N_steps  - number of steps to perform\n",
    "    a -  coupling between neighbouring points\n",
    "    dt - time step to be used \n",
    "    N - number of points to be used\n",
    "    width & heigth of window\n",
    "    randspeed - indicates wether we should use random initial speeds\n",
    "\n",
    "    \"\"\"\n",
    "\n",
    "    agents, speeds, window = initialize(randspeeds, N)\n",
    "    for i in range(N_steps):\n",
    "        next_step(agents, speeds, dt, N)\n",
    "        couple_speeds(agents, speeds, a, N)\n",
    "        treat_boundary(width, height, agents, speeds, N)\n",
    "    window.close()\n",
    "\n",
    "simulate(N_steps = 100, a =0.1, dt = 10)"
   ]
  },
  {
   "cell_type": "code",
   "execution_count": 39,
   "metadata": {
    "collapsed": false
   },
   "outputs": [],
   "source": [
    "from graphics import *\n",
    "\n",
    "def plot(width, height):\n",
    "    win = GraphWin(\"Swarm\", width, height) # size of box\n",
    "    x = Point(500,500)\n",
    "    x.draw(win)\n",
    "    for i in range(10):\n",
    "        win.getMouse() # Pause to view result\n",
    "        x.move(10,10)\n",
    "    win.getMouse()\n",
    "    win.close()    # Close window when done\n",
    "\n",
    "plot(1000, 1000)\n"
   ]
  },
  {
   "cell_type": "code",
   "execution_count": null,
   "metadata": {
    "collapsed": true
   },
   "outputs": [],
   "source": []
  }
 ],
 "metadata": {
  "kernelspec": {
   "display_name": "Python 2",
   "language": "python",
   "name": "python2"
  },
  "language_info": {
   "codemirror_mode": {
    "name": "ipython",
    "version": 2
   },
   "file_extension": ".py",
   "mimetype": "text/x-python",
   "name": "python",
   "nbconvert_exporter": "python",
   "pygments_lexer": "ipython2",
   "version": "2.7.13"
  }
 },
 "nbformat": 4,
 "nbformat_minor": 2
}
