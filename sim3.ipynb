{
 "cells": [
  {
   "cell_type": "code",
   "execution_count": 1,
   "metadata": {
    "collapsed": true
   },
   "outputs": [],
   "source": [
    "import matplotlib.pyplot as plt\n",
    "from graphics import *\n",
    "from operator import *\n",
    "from random import *\n",
    "import numpy as np\n",
    "import time"
   ]
  },
  {
   "cell_type": "code",
   "execution_count": 2,
   "metadata": {
    "collapsed": false
   },
   "outputs": [],
   "source": [
    "def initialize(speed = 1, N = 100, width = 1000, height = 1000):\n",
    "    \"\"\"\n",
    "    Initializes our agent set with randomly directed speeds, draws the window and the agents\n",
    "    \"\"\"\n",
    "    agents = [Point(width*random(), height*random()) for i in range(N)]\n",
    "    speeds = N * [np.array([0, 0])]\n",
    "    for i in range(N):\n",
    "        theta = 2 * np.pi * random()\n",
    "        speeds[i][0] = speed * np.cos(theta)\n",
    "        speeds[i][1] = speed * np.sin(theta)\n",
    "\n",
    "    return agents, speeds, plot(agents, width, height)\n",
    "\n",
    "\n",
    "def plot(agents, width, height):\n",
    "    win = GraphWin(\"Swarm\", width, height) # size of box\n",
    "    for agent in agents:\n",
    "        agent.draw(win)\n",
    "    win.getMouse()\n",
    "    return win\n",
    "\n",
    "\n",
    "def couple_speeds(agents, speeds, a, s, N):\n",
    "    \"\"\"\n",
    "    Simplest model: for each agent, it will give its nearest neighbour a fraction of its speed and re-normalize it\n",
    "    \n",
    "    \"\"\"\n",
    "    nearest_neighbours = [nearest_neighbour(agent, agents, N) for agent in agents]\n",
    "    for i in range(N):\n",
    "            weightedSpeed = a * speeds[nearest_neighbours[i]]\n",
    "            speeds[i] = speeds[i] + weightedSpeed\n",
    "            speeds[i] = s * normalized(speeds[i]) ### PROBLEMA?-------------------------------------------------\n",
    "\n",
    "\n",
    "def get_distances(agent, agents):\n",
    "    \"\"\"\n",
    "    Given one angent and the set of all agents, \n",
    "    computes the distances from the first to all of the others\n",
    "    \"\"\"\n",
    "    \n",
    "    dists = [(a.getX() - agent.getX())**2 + (a.getY() - agent.getY())**2 for a in agents]\n",
    "    for i in range(len(dists)):\n",
    "        if dists[i] == 0:\n",
    "            dists[i] = 0.1\n",
    "    return dists\n",
    "\n",
    "\n",
    "def nearest_neighbour(agent, agents, N):\n",
    "    \"\"\"\n",
    "    Returns the index for the agent with smallest Eucledian distance to agent in question\n",
    "    \"\"\"\n",
    "    distances = get_distances(agent, agents)\n",
    "    j = next(i for i in range(N) if agents[i] is agent)\n",
    "    distances[j] = distances[j-1] + 1\n",
    "\n",
    "    return distances.index(min(distances))\n",
    "\n",
    "\n",
    "def treat_boundary(x_bound, y_bound, agents, speeds, N):\n",
    "    [dx, dy] = [0, 0]\n",
    "    for i in range(N):\n",
    "        [x, y] = [agents[i].getX(), agents[i].getY()]\n",
    "        if x > x_bound:\n",
    "            speeds[i][0] = -speeds[i][0]\n",
    "            dx = x_bound - x         \n",
    "        \n",
    "        elif x < 0:\n",
    "            speeds[i][0] = -speeds[i][0]\n",
    "            dx = -x\n",
    "        \n",
    "        if y > y_bound:\n",
    "            speeds[i][1] = -speeds[i][1]\n",
    "            dy = y_bound - y\n",
    "        \n",
    "        elif y < 0:\n",
    "            speeds[i][1] = -speeds[i][1]\n",
    "            dy = -y\n",
    "\n",
    "        if dx or dy:\n",
    "            agents[i].move(dx, dy)\n",
    "\n",
    "\n",
    "def next_step(agents, speeds, dt, N):\n",
    "    dxvec = [dt * speeds[i][0] for i in range(N)]\n",
    "    dyvec = [dt * speeds[i][1] for i in range(N)]\n",
    "    \n",
    "    for i in range(N):\n",
    "        agents[i].move(dxvec[i], dyvec[i])\n",
    "\n",
    "\n",
    "def normalized(vector):\n",
    "    if vector[0] == vector[1] == 0:\n",
    "        return vector\n",
    "    return vector / np.linalg.norm(vector)\n"
   ]
  },
  {
   "cell_type": "code",
   "execution_count": 3,
   "metadata": {
    "collapsed": true
   },
   "outputs": [],
   "source": [
    "def couzin(agents, speeds, N, s, rr=1, ro=2, ra=3):\n",
    "    # watch only particles inrepuls\n",
    "    for i in range(N): ### FIX - Eliminate, in some way the i-i interaction\n",
    "        curr_agent = agents[i]\n",
    "        distances = get_distances(curr_agent, agents)\n",
    "        r_dir = np.array([0, 0])\n",
    "        o_dir = np.array([0, 0])\n",
    "        a_dir = np.array([0, 0])\n",
    "        repulsion_flag = False    \n",
    "        \n",
    "        for j in range(N):\n",
    "            if i == j:\n",
    "                continue\n",
    "\n",
    "            if distances[j] < rr:\n",
    "                temp_vec = np.array([agents[j].getX() - curr_agent.getX(), agents[j].getY() - curr_agent.getY()])\n",
    "                temp_vec = normalized(temp_vec)\n",
    "                r_dir = r_dir + temp_vec\n",
    "                repulsion_flag = True\n",
    "            \n",
    "            elif not repulsion_flag:\n",
    "\n",
    "                if distances[j] < ro:\n",
    "                    o_dir = o_dir + speeds[j]\n",
    "                \n",
    "                elif distances[j] < ra:\n",
    "                    temp_vec = np.array([agents[j].getX() - curr_agent.getX(), agents[j].getY() - curr_agent.getY()])\n",
    "                    temp_vec = normalized(temp_vec)\n",
    "                    a_dir = a_dir + temp_vec\n",
    "            \n",
    "                    \n",
    "        if repulsion_flag:\n",
    "            tot_dir =  normalized(-r_dir)\n",
    "        else:\n",
    "            o_dir = normalized(o_dir)\n",
    "            a_dir = normalized(a_dir)\n",
    "            tot_dir = o_dir + a_dir\n",
    "            tot_dir = normalized(tot_dir)\n",
    "\n",
    "        if np.linalg.norm(tot_dir) != 0:\n",
    "            speeds[i] = s*tot_dir \n",
    "\n",
    "\n",
    "def vicsek():\n",
    "    return\n",
    "\n",
    "def gueron():\n",
    "    return"
   ]
  },
  {
   "cell_type": "code",
   "execution_count": 4,
   "metadata": {
    "collapsed": false,
    "scrolled": true
   },
   "outputs": [
    {
     "ename": "KeyboardInterrupt",
     "evalue": "",
     "output_type": "error",
     "traceback": [
      "\u001b[0;31m---------------------------------------------------------------------------\u001b[0m",
      "\u001b[0;31mKeyboardInterrupt\u001b[0m                         Traceback (most recent call last)",
      "\u001b[0;32m<ipython-input-4-944d97ae6b1e>\u001b[0m in \u001b[0;36m<module>\u001b[0;34m()\u001b[0m\n\u001b[1;32m     21\u001b[0m     \u001b[0mwindow\u001b[0m\u001b[0;34m.\u001b[0m\u001b[0mclose\u001b[0m\u001b[0;34m(\u001b[0m\u001b[0;34m)\u001b[0m\u001b[0;34m\u001b[0m\u001b[0m\n\u001b[1;32m     22\u001b[0m \u001b[0;34m\u001b[0m\u001b[0m\n\u001b[0;32m---> 23\u001b[0;31m \u001b[0msimulate\u001b[0m\u001b[0;34m(\u001b[0m\u001b[0mN_steps\u001b[0m \u001b[0;34m=\u001b[0m \u001b[0;36m2000\u001b[0m\u001b[0;34m,\u001b[0m \u001b[0mN\u001b[0m \u001b[0;34m=\u001b[0m \u001b[0;36m50\u001b[0m\u001b[0;34m,\u001b[0m \u001b[0mdt\u001b[0m \u001b[0;34m=\u001b[0m \u001b[0;36m1\u001b[0m\u001b[0;34m,\u001b[0m \u001b[0mwidth\u001b[0m \u001b[0;34m=\u001b[0m \u001b[0;36m500\u001b[0m\u001b[0;34m,\u001b[0m \u001b[0mheight\u001b[0m \u001b[0;34m=\u001b[0m \u001b[0;36m500\u001b[0m\u001b[0;34m,\u001b[0m \u001b[0ms\u001b[0m \u001b[0;34m=\u001b[0m \u001b[0;36m5\u001b[0m\u001b[0;34m)\u001b[0m\u001b[0;34m\u001b[0m\u001b[0m\n\u001b[0m",
      "\u001b[0;32m<ipython-input-4-944d97ae6b1e>\u001b[0m in \u001b[0;36msimulate\u001b[0;34m(N_steps, a, dt, N, width, height, s)\u001b[0m\n\u001b[1;32m     15\u001b[0m     \u001b[0;32mfor\u001b[0m \u001b[0mi\u001b[0m \u001b[0;32min\u001b[0m \u001b[0mrange\u001b[0m\u001b[0;34m(\u001b[0m\u001b[0mN_steps\u001b[0m\u001b[0;34m)\u001b[0m\u001b[0;34m:\u001b[0m\u001b[0;34m\u001b[0m\u001b[0m\n\u001b[1;32m     16\u001b[0m         \u001b[0mnext_step\u001b[0m\u001b[0;34m(\u001b[0m\u001b[0magents\u001b[0m\u001b[0;34m,\u001b[0m \u001b[0mspeeds\u001b[0m\u001b[0;34m,\u001b[0m \u001b[0mdt\u001b[0m\u001b[0;34m,\u001b[0m \u001b[0mN\u001b[0m\u001b[0;34m)\u001b[0m\u001b[0;34m\u001b[0m\u001b[0m\n\u001b[0;32m---> 17\u001b[0;31m         \u001b[0mcouzin\u001b[0m\u001b[0;34m(\u001b[0m\u001b[0magents\u001b[0m\u001b[0;34m,\u001b[0m \u001b[0mspeeds\u001b[0m\u001b[0;34m,\u001b[0m \u001b[0mN\u001b[0m\u001b[0;34m,\u001b[0m \u001b[0;36m10\u001b[0m\u001b[0;34m,\u001b[0m\u001b[0;36m1900\u001b[0m\u001b[0;34m,\u001b[0m\u001b[0;36m2000\u001b[0m\u001b[0;34m)\u001b[0m\u001b[0;34m\u001b[0m\u001b[0m\n\u001b[0m\u001b[1;32m     18\u001b[0m         \u001b[0;31m#couple_speeds(agents, speeds, a, s, N)\u001b[0m\u001b[0;34m\u001b[0m\u001b[0;34m\u001b[0m\u001b[0m\n\u001b[1;32m     19\u001b[0m         \u001b[0mtreat_boundary\u001b[0m\u001b[0;34m(\u001b[0m\u001b[0mwidth\u001b[0m\u001b[0;34m,\u001b[0m \u001b[0mheight\u001b[0m\u001b[0;34m,\u001b[0m \u001b[0magents\u001b[0m\u001b[0;34m,\u001b[0m \u001b[0mspeeds\u001b[0m\u001b[0;34m,\u001b[0m \u001b[0mN\u001b[0m\u001b[0;34m)\u001b[0m\u001b[0;34m\u001b[0m\u001b[0m\n",
      "\u001b[0;32m<ipython-input-3-6f6edb88e6c5>\u001b[0m in \u001b[0;36mcouzin\u001b[0;34m(agents, speeds, N, s, rr, ro, ra)\u001b[0m\n\u001b[1;32m     24\u001b[0m                     \u001b[0mo_dir\u001b[0m \u001b[0;34m=\u001b[0m \u001b[0mo_dir\u001b[0m \u001b[0;34m+\u001b[0m \u001b[0mspeeds\u001b[0m\u001b[0;34m[\u001b[0m\u001b[0mj\u001b[0m\u001b[0;34m]\u001b[0m\u001b[0;34m\u001b[0m\u001b[0m\n\u001b[1;32m     25\u001b[0m \u001b[0;34m\u001b[0m\u001b[0m\n\u001b[0;32m---> 26\u001b[0;31m                 \u001b[0;32melif\u001b[0m \u001b[0mdistances\u001b[0m\u001b[0;34m[\u001b[0m\u001b[0mj\u001b[0m\u001b[0;34m]\u001b[0m \u001b[0;34m<\u001b[0m \u001b[0mra\u001b[0m\u001b[0;34m:\u001b[0m\u001b[0;34m\u001b[0m\u001b[0m\n\u001b[0m\u001b[1;32m     27\u001b[0m                     \u001b[0mtemp_vec\u001b[0m \u001b[0;34m=\u001b[0m \u001b[0mnp\u001b[0m\u001b[0;34m.\u001b[0m\u001b[0marray\u001b[0m\u001b[0;34m(\u001b[0m\u001b[0;34m[\u001b[0m\u001b[0magents\u001b[0m\u001b[0;34m[\u001b[0m\u001b[0mj\u001b[0m\u001b[0;34m]\u001b[0m\u001b[0;34m.\u001b[0m\u001b[0mgetX\u001b[0m\u001b[0;34m(\u001b[0m\u001b[0;34m)\u001b[0m \u001b[0;34m-\u001b[0m \u001b[0mcurr_agent\u001b[0m\u001b[0;34m.\u001b[0m\u001b[0mgetX\u001b[0m\u001b[0;34m(\u001b[0m\u001b[0;34m)\u001b[0m\u001b[0;34m,\u001b[0m \u001b[0magents\u001b[0m\u001b[0;34m[\u001b[0m\u001b[0mj\u001b[0m\u001b[0;34m]\u001b[0m\u001b[0;34m.\u001b[0m\u001b[0mgetY\u001b[0m\u001b[0;34m(\u001b[0m\u001b[0;34m)\u001b[0m \u001b[0;34m-\u001b[0m \u001b[0mcurr_agent\u001b[0m\u001b[0;34m.\u001b[0m\u001b[0mgetY\u001b[0m\u001b[0;34m(\u001b[0m\u001b[0;34m)\u001b[0m\u001b[0;34m]\u001b[0m\u001b[0;34m)\u001b[0m\u001b[0;34m\u001b[0m\u001b[0m\n\u001b[1;32m     28\u001b[0m                     \u001b[0mtemp_vec\u001b[0m \u001b[0;34m=\u001b[0m \u001b[0mnormalized\u001b[0m\u001b[0;34m(\u001b[0m\u001b[0mtemp_vec\u001b[0m\u001b[0;34m)\u001b[0m\u001b[0;34m\u001b[0m\u001b[0m\n",
      "\u001b[0;31mKeyboardInterrupt\u001b[0m: "
     ]
    }
   ],
   "source": [
    "def simulate(N_steps = 10, a = 1, dt = 1, N = 100, width = 500, height = 500, s = 10):\n",
    "    \"\"\"\n",
    "    Simulates motion of swarm. Recieves following parameters:\n",
    "\n",
    "    N_steps  - number of steps to perform\n",
    "    a -  coupling between neighbouring points\n",
    "    dt - time step to be used \n",
    "    N - number of points to be used\n",
    "    width & heigth of window\n",
    "    s - module of speed throughout agents\n",
    "\n",
    "    \"\"\"\n",
    "\n",
    "    agents, speeds, window = initialize(s, N, width, height)\n",
    "    for i in range(N_steps):\n",
    "        next_step(agents, speeds, dt, N)\n",
    "        couzin(agents, speeds, N, 10,1900,2000)\n",
    "        #couple_speeds(agents, speeds, a, s, N)\n",
    "        treat_boundary(width, height, agents, speeds, N)\n",
    "        time.sleep(0.02)\n",
    "    window.close()\n",
    "\n",
    "simulate(N_steps = 2000, N = 50, dt = 1, width = 500, height = 500, s = 5)"
   ]
  },
  {
   "cell_type": "code",
   "execution_count": 12,
   "metadata": {
    "collapsed": false
   },
   "outputs": [],
   "source": [
    "a,b,c = initialize(3,50,100,100)"
   ]
  },
  {
   "cell_type": "code",
   "execution_count": 8,
   "metadata": {
    "collapsed": true
   },
   "outputs": [],
   "source": [
    "a = 3* [np.array([1,2])]"
   ]
  },
  {
   "cell_type": "code",
   "execution_count": 9,
   "metadata": {
    "collapsed": false
   },
   "outputs": [
    {
     "data": {
      "text/plain": [
       "[array([1, 2]), array([1, 2]), array([1, 2])]"
      ]
     },
     "execution_count": 9,
     "metadata": {},
     "output_type": "execute_result"
    }
   ],
   "source": [
    "a"
   ]
  },
  {
   "cell_type": "code",
   "execution_count": null,
   "metadata": {
    "collapsed": true
   },
   "outputs": [],
   "source": []
  }
 ],
 "metadata": {
  "kernelspec": {
   "display_name": "Python 2",
   "language": "python",
   "name": "python2"
  },
  "language_info": {
   "codemirror_mode": {
    "name": "ipython",
    "version": 2
   },
   "file_extension": ".py",
   "mimetype": "text/x-python",
   "name": "python",
   "nbconvert_exporter": "python",
   "pygments_lexer": "ipython2",
   "version": "2.7.13"
  }
 },
 "nbformat": 4,
 "nbformat_minor": 2
}
