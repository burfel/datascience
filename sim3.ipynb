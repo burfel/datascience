{
 "cells": [
  {
   "cell_type": "code",
   "execution_count": 14,
   "metadata": {
    "collapsed": true
   },
   "outputs": [],
   "source": [
    "import matplotlib.pyplot as plt\n",
    "from graphics import *\n",
    "from operator import *\n",
    "from random import *\n",
    "import numpy as np"
   ]
  },
  {
   "cell_type": "code",
   "execution_count": 15,
   "metadata": {
    "collapsed": false
   },
   "outputs": [],
   "source": [
    "def initialize(speed = 1, N = 100, width = 1000, height = 1000):\n",
    "\n",
    "    agents = [Point(width*random(), height*random()) for i in range(N)]\n",
    "    speeds = N * [0]\n",
    "    for i in range(N):\n",
    "        theta = 2 * np.pi * random()\n",
    "        speeds[i] = [speed * np.cos(theta), speed * np.sin(theta)]\n",
    "\n",
    "    return agents, speeds, plot(agents, width, height)\n",
    "\n",
    "\n",
    "def couple_speeds(agents, speeds, a, N):\n",
    "    nearest_neighbours = [nearest_neighbour(agent, agents, N) for agent in agents]\n",
    "    for i in range(N):\n",
    "            weightedSpeed = map(lambda x: a * x, speeds[nearest_neighbours[i]])\n",
    "            #print(agents[i],'<-',weightedAgent)\n",
    "            speeds[i] = map(add, speeds[i], weightedSpeed)\n",
    "            speeds[i] = normalized(speeds[i])\n",
    "            print(speeds[i])\n",
    "\n",
    "def get_distances(agent, agents):\n",
    "    dists = [(a.getX() - agent.getX())**2 + (a.getY() - agent.getY())**2 for a in agents]\n",
    "    for i in range(len(dists)):\n",
    "        if dists[i] == 0:\n",
    "            dists[i] = 0.1\n",
    "    return dists\n",
    "\n",
    "def nearest_neighbour(agent, agents, N):\n",
    "    \"\"\"\n",
    "    Returns the index for the agent with smallest Eucledian distance to agent in question\n",
    "    \"\"\"\n",
    "    distances = get_distances(agent, agents)\n",
    "    j = next(i for i in range(N) if agents[i] is agent)\n",
    "    distances[j] = distances[j-1] + 1\n",
    "\n",
    "    return distances.index(min(distances))\n",
    "    \n",
    "    \n",
    "def treat_boundary(x_bound, y_bound, agents, speeds, N):\n",
    "    for i in range(N):\n",
    "        [x, y] = [agents[i].getX(), agents[i].getY()]\n",
    "        if x > x_bound or x < 0:\n",
    "            speeds[i][0] = -speeds[i][0]\n",
    "        if y > y_bound or y < 0:\n",
    "            speeds[i][1] = -speeds[i][1]\n",
    "\n",
    "\n",
    "def next_step(agents, speeds, dt, N):\n",
    "    dxvec = [dt * speeds[i][0] for i in range(N)]\n",
    "    dyvec = [dt * speeds[i][1] for i in range(N)]\n",
    "    \n",
    "    for i in range(N):\n",
    "        agents[i].move(dxvec[i], dyvec[i])\n",
    "        \n",
    "\n",
    "def plot(agents, width, height):\n",
    "    win = GraphWin(\"Swarm\", width, height) # size of box\n",
    "    for agent in agents:\n",
    "        agent.draw(win)\n",
    "    win.getMouse()\n",
    "    return win\n",
    "    #win.close()\n",
    "\n",
    "def normalized(vector):\n",
    "    if vector == [0, 0]:\n",
    "        return vector\n",
    "    return map(lambda x: x/np.sqrt(vector[0]**2 + vector[1]**2), vector)\n",
    "    "
   ]
  },
  {
   "cell_type": "code",
   "execution_count": 21,
   "metadata": {
    "collapsed": false
   },
   "outputs": [],
   "source": [
    "def couzin(agents, speeds, N, rr=1, ro=2, ra=3):\n",
    "    # watch only particles inrepuls\n",
    "    distances = [get_distances(agent, agents) for agent in agents]\n",
    "    for i in range(N): ### FIX - Eliminate, in some way the i-i interaction\n",
    "        r_dir = [0, 0]\n",
    "        o_dir = [0, 0]\n",
    "        a_dir = [0, 0]\n",
    "        repulsion_flag = False    \n",
    "        \n",
    "        for j in range(N):\n",
    "            if i == j:\n",
    "                continue\n",
    "\n",
    "            if distances[i][j] < rr:\n",
    "                temp_vec = [agents[j].getX() - agents[i].getX(), agents[j].getY()-agents[i].getY()]\n",
    "                temp_vec = normalized(temp_vec)\n",
    "                r_dir = map(add, r_dir, temp_vec)\n",
    "                repulsion_flag = True\n",
    "            \n",
    "            elif not repulsion_flag:\n",
    "\n",
    "                if distances[i][j] < ro:\n",
    "                    o_dir = map(add, o_dir, speeds[j])\n",
    "                elif distances[i][j] < ra:\n",
    "                    temp_vec = [agents[i].getX()-agents[j].getX(), agents[i].getY()-agents[j].getY()]\n",
    "                    temp_vec = normalized(temp_vec)\n",
    "                    a_dir = map(add, a_dir, temp_vec)\n",
    "            \n",
    "                    \n",
    "        if repulsion_flag:\n",
    "            tot_dir = map(lambda x: -x, normalized(r_dir))\n",
    "        else:\n",
    "            o_dir = normalized(o_dir)\n",
    "            a_dir = normalized(a_dir)\n",
    "            tot_dir = map(add, o_dir, a_dir)\n",
    "            tot_dir = normalized(tot_dir)\n",
    "\n",
    "        if tot_dir != [0,0]:\n",
    "            speeds[i] = map(lambda x: x*np.sqrt(speeds[i][0]**2+speeds[i][1]**2), tot_dir) # re-normalization \n",
    "\n",
    "\n",
    "def vicsek():\n",
    "    return\n",
    "\n",
    "def gueron():\n",
    "    return"
   ]
  },
  {
   "cell_type": "code",
   "execution_count": null,
   "metadata": {
    "collapsed": false,
    "scrolled": true
   },
   "outputs": [
    {
     "name": "stdout",
     "output_type": "stream",
     "text": [
      "0\n",
      "1\n",
      "2\n",
      "3\n",
      "4\n",
      "5\n",
      "6\n",
      "7\n",
      "8\n",
      "9\n",
      "10\n",
      "11\n",
      "12\n",
      "13\n",
      "14\n",
      "15\n",
      "16\n",
      "17\n"
     ]
    }
   ],
   "source": [
    "def simulate(N_steps = 10, a = 0.1, dt = 1, N = 100, width = 1000, height = 1000, s = 10):\n",
    "    \"\"\"\n",
    "    Simulates motion of swarm. Recieves following parameters:\n",
    "\n",
    "    N_steps  - number of steps to perform\n",
    "    a -  coupling between neighbouring points\n",
    "    dt - time step to be used \n",
    "    N - number of points to be used\n",
    "    width & heigth of window\n",
    "    s - module of speed throughout agents\n",
    "\n",
    "    \"\"\"\n",
    "\n",
    "    agents, speeds, window = initialize(s, N)\n",
    "    for i in range(N_steps):\n",
    "        print(i)\n",
    "        next_step(agents, speeds, dt, N)\n",
    "        couzin(agents, speeds, N, 10,20,30)\n",
    "        #couple_speeds(agents, speeds, a, N)\n",
    "        treat_boundary(width, height, agents, speeds, N)\n",
    "    window.close()\n",
    "\n",
    "simulate(N_steps = 100)"
   ]
  },
  {
   "cell_type": "code",
   "execution_count": null,
   "metadata": {
    "collapsed": false
   },
   "outputs": [],
   "source": []
  },
  {
   "cell_type": "code",
   "execution_count": null,
   "metadata": {
    "collapsed": true
   },
   "outputs": [],
   "source": []
  },
  {
   "cell_type": "code",
   "execution_count": null,
   "metadata": {
    "collapsed": true
   },
   "outputs": [],
   "source": []
  }
 ],
 "metadata": {
  "kernelspec": {
   "display_name": "Python 2",
   "language": "python",
   "name": "python2"
  },
  "language_info": {
   "codemirror_mode": {
    "name": "ipython",
    "version": 2
   },
   "file_extension": ".py",
   "mimetype": "text/x-python",
   "name": "python",
   "nbconvert_exporter": "python",
   "pygments_lexer": "ipython2",
   "version": "2.7.13"
  }
 },
 "nbformat": 4,
 "nbformat_minor": 2
}
